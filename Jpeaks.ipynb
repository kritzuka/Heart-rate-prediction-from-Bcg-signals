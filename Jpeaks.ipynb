{
  "nbformat": 4,
  "nbformat_minor": 0,
  "metadata": {
    "colab": {
      "provenance": []
    },
    "kernelspec": {
      "name": "python3",
      "display_name": "Python 3"
    },
    "language_info": {
      "name": "python"
    }
  },
  "cells": [
    {
      "cell_type": "code",
      "execution_count": 1,
      "metadata": {
        "id": "NSVPEJkVWrwl"
      },
      "outputs": [],
      "source": [
        "import torch\n",
        "import torch.nn as nn\n",
        "import numpy as np\n",
        "import pandas as pd\n",
        "from sklearn.model_selection import KFold, train_test_split\n",
        "import matplotlib.pyplot as plt\n",
        "import torch\n",
        "import torch.nn as nn\n",
        "import torch.nn.functional as F\n",
        "import torch.optim as optim\n",
        "from torch.utils.data import Dataset,DataLoader\n",
        "from torch.autograd import Variable"
      ]
    },
    {
      "cell_type": "code",
      "source": [
        "\n",
        "from google.colab import drive\n",
        "drive.mount('/content/drive')"
      ],
      "metadata": {
        "id": "d1PPaV7k_P_0",
        "colab": {
          "base_uri": "https://localhost:8080/"
        },
        "outputId": "4e7f6a82-4127-4071-d116-c2c2f0231f1a"
      },
      "execution_count": 2,
      "outputs": [
        {
          "output_type": "stream",
          "name": "stdout",
          "text": [
            "Mounted at /content/drive\n"
          ]
        }
      ]
    },
    {
      "cell_type": "markdown",
      "source": [
        "/content/drive/Shareddrives"
      ],
      "metadata": {
        "id": "Pmv3gmZxF-6X"
      }
    },
    {
      "cell_type": "code",
      "source": [
        "data = pd.read_csv('/content/drive/MyDrive/hackathon/ground_truth/Subject39_1526417507/1526417507.csv', header = None)\n",
        "data = data.T\n",
        "print(data.shape)\n",
        "data2 = pd.read_csv('/content/drive/MyDrive/hackathon/ground_truth/Subject39_1526591202/1526591202.csv', header = None)\n",
        "data2 = data2.T\n",
        "data3 = pd.read_csv('/content/drive/MyDrive/hackathon/ground_truth/Subject42_1527280030/1527280030.csv', header = None)\n",
        "data3 = data3.T\n",
        "data4 = pd.read_csv('/content/drive/MyDrive/hackathon/ground_truth/Subject43_1527806941/1527806941.csv', header = None)\n",
        "data4 = data4.T\n",
        "data5 = pd.read_csv('/content/drive/MyDrive/hackathon/ground_truth/Subject54_1539288817/1539288817.csv', header = None)\n",
        "data5 = data5.T\n",
        "data6 = pd.read_csv('/content/drive/MyDrive/hackathon/ground_truth/Subject55_1539459892/1539459892.csv', header = None)\n",
        "data6 = data6.T\n",
        "train_data1 = pd.concat([data,data2,data3,data4,data5,data6],ignore_index = True)\n",
        "train_data1 = train_data1.to_numpy()\n",
        "train_data1.shape"
      ],
      "metadata": {
        "id": "YEBFmZapXSKV",
        "colab": {
          "base_uri": "https://localhost:8080/"
        },
        "outputId": "57aa2819-d956-4fe9-efd1-24a0e5e81563"
      },
      "execution_count": 3,
      "outputs": [
        {
          "output_type": "stream",
          "name": "stdout",
          "text": [
            "(1, 54240)\n"
          ]
        },
        {
          "output_type": "execute_result",
          "data": {
            "text/plain": [
              "(6, 54240)"
            ]
          },
          "metadata": {},
          "execution_count": 3
        }
      ]
    },
    {
      "cell_type": "code",
      "source": [
        "dataset=[]"
      ],
      "metadata": {
        "id": "esiS-4fMmxMZ"
      },
      "execution_count": 4,
      "outputs": []
    },
    {
      "cell_type": "code",
      "source": [
        "data = pd.read_csv('/content/drive/MyDrive/hackathon/ground_truth/Subject39_1526417507/jpeaks.csv', header = None)\n",
        "data-= 1526417507\n",
        "#data = data.T\n",
        "dataset.append(data*226)\n",
        "data2 = pd.read_csv('/content/drive/MyDrive/hackathon/ground_truth/Subject39_1526591202/jpeaks.csv', header = None)\n",
        "data2-=1526591202\n",
        "#data2 = data2.T\n",
        "dataset.append(data2*226)\n",
        "data3 = pd.read_csv('/content/drive/MyDrive/hackathon/ground_truth/Subject42_1527280030/jpeaks.csv', header = None)\n",
        "data3-=1527280030\n",
        "#data3 = data3.T\n",
        "dataset.append(data3*226)\n",
        "data4 = pd.read_csv('/content/drive/MyDrive/hackathon/ground_truth/Subject43_1527806941/jpeaks.csv', header = None)\n",
        "data4-=1527806941\n",
        "#data4 = data4.T\n",
        "dataset.append(data4*226)\n",
        "data5 = pd.read_csv('/content/drive/MyDrive/hackathon/ground_truth/Subject54_1539288817/jpeaks.csv', header = None)\n",
        "data5-=1539288817\n",
        "#data5 = data5.T\n",
        "dataset.append(data5*226)\n",
        "data6 = pd.read_csv('/content/drive/MyDrive/hackathon/ground_truth/Subject55_1539459892/jpeaks.csv', header = None)\n",
        "data6-=1539459892\n",
        "#data6 = data6.T\n",
        "dataset.append(data6*226)\n",
        "#target_values = pd.concat([data,data2,data3,data4,data5,data6],ignore_index = True)\n",
        "print(len(dataset))"
      ],
      "metadata": {
        "id": "YxeuncyBbq5O",
        "colab": {
          "base_uri": "https://localhost:8080/"
        },
        "outputId": "b2c23018-c7ec-4cba-91c9-0930e1131b46"
      },
      "execution_count": 5,
      "outputs": [
        {
          "output_type": "stream",
          "name": "stdout",
          "text": [
            "6\n"
          ]
        }
      ]
    },
    {
      "cell_type": "code",
      "source": [
        "olabels = np.zeros((6,54240),dtype = 'int64')\n",
        "for j in range(6):\n",
        "  for i in range(dataset[j].shape[0]):\n",
        "    olabels[j,round(dataset[j][0][i])] = 1\n",
        "\n"
      ],
      "metadata": {
        "id": "v1KTeNFq37BO"
      },
      "execution_count": 6,
      "outputs": []
    },
    {
      "cell_type": "code",
      "source": [
        "import os"
      ],
      "metadata": {
        "id": "MAUzkcM9FSRp"
      },
      "execution_count": 7,
      "outputs": []
    },
    {
      "cell_type": "code",
      "source": [
        "df = pd.DataFrame()\n",
        "addresses = []\n",
        "for root, dir, files in os.walk('/content/drive/MyDrive/hackathon/dataset'):\n",
        "  if files == []:\n",
        "    pass\n",
        "  else:\n",
        "    path = os.path.join(root, files[0])\n",
        "    data = pd.read_csv(path, header = None)\n",
        "    addresses.append(root)\n",
        "    data = data.T\n",
        "    df = pd.concat([df,data], ignore_index = True)"
      ],
      "metadata": {
        "id": "hs-mj9HyNinh"
      },
      "execution_count": 8,
      "outputs": []
    },
    {
      "cell_type": "code",
      "source": [
        "test_data = df.to_numpy()"
      ],
      "metadata": {
        "id": "_Ah7hzfkvTTl"
      },
      "execution_count": 9,
      "outputs": []
    },
    {
      "cell_type": "code",
      "source": [
        "preds = np.zeros((55,60))"
      ],
      "metadata": {
        "id": "08j2gqYvueqz"
      },
      "execution_count": 10,
      "outputs": []
    },
    {
      "cell_type": "code",
      "source": [
        "for i in range(55):\n",
        "  step = 904\n",
        "  for j in range(60):\n",
        "    slice_t = test_data[i, j*step : (j+1)*step]\n",
        "    preds[i,j] = np.argmax(slice_t) + j*step\n",
        "\n",
        "\n"
      ],
      "metadata": {
        "id": "UYNoatNEuqts"
      },
      "execution_count": 11,
      "outputs": []
    },
    {
      "cell_type": "code",
      "source": [
        "def convert_to_timestamps(predictions, initial_timestamp):\n",
        "  timestamps = []\n",
        "\n",
        "\n",
        "  for i in predictions:\n",
        "    sec = (i+1)/226\n",
        "    current_timestamp = float(initial_timestamp) + sec\n",
        "    timestamps.append(str(current_timestamp))\n",
        "  return timestamps"
      ],
      "metadata": {
        "id": "UJWUg487v-r6"
      },
      "execution_count": 12,
      "outputs": []
    },
    {
      "cell_type": "code",
      "source": [
        "for i in range(55):\n",
        "  pred = convert_to_timestamps(preds[i],addresses[i][-10:])\n",
        "\n",
        "\n",
        "  pred_df = pd.DataFrame(pred)\n",
        "  pred_df = pred_df.iloc[:,0].astype('object')\n",
        "  path = addresses[i]"
      ],
      "metadata": {
        "id": "cBH606IMx7Yh"
      },
      "execution_count": 13,
      "outputs": []
    },
    {
      "cell_type": "code",
      "source": [
        "pred_df"
      ],
      "metadata": {
        "colab": {
          "base_uri": "https://localhost:8080/"
        },
        "id": "7c_084jqu6kd",
        "outputId": "3d23cccd-6d03-4b5f-99ed-2c2412cff99a"
      },
      "execution_count": 14,
      "outputs": [
        {
          "output_type": "execute_result",
          "data": {
            "text/plain": [
              "0      1547585052.256637\n",
              "1     1547585057.7212389\n",
              "2      1547585059.318584\n",
              "3     1547585063.6548672\n",
              "4     1547585068.6283185\n",
              "5     1547585072.8716815\n",
              "6     1547585075.1504424\n",
              "7      1547585081.159292\n",
              "8     1547585085.0353982\n",
              "9     1547585089.8274336\n",
              "10    1547585092.6902654\n",
              "11    1547585094.6238937\n",
              "12     1547585099.982301\n",
              "13    1547585105.3274336\n",
              "14    1547585106.0044248\n",
              "15     1547585111.039823\n",
              "16    1547585114.0840707\n",
              "17    1547585118.0309734\n",
              "18     1547585122.141593\n",
              "19    1547585129.4247787\n",
              "20     1547585131.858407\n",
              "21    1547585137.2256637\n",
              "22    1547585138.4292035\n",
              "23    1547585144.6238937\n",
              "24          1547585150.0\n",
              "25    1547585150.8451328\n",
              "26     1547585155.699115\n",
              "27    1547585160.4336283\n",
              "28    1547585165.5752213\n",
              "29    1547585167.5884955\n",
              "30    1547585172.1150444\n",
              "31     1547585174.402655\n",
              "32    1547585179.2256637\n",
              "33    1547585184.5929203\n",
              "34    1547585187.3672566\n",
              "35    1547585190.6327434\n",
              "36     1547585197.743363\n",
              "37    1547585200.2035398\n",
              "38    1547585205.0442479\n",
              "39    1547585208.8628318\n",
              "40    1547585213.6769912\n",
              "41    1547585216.5619469\n",
              "42    1547585220.3672566\n",
              "43    1547585222.1725664\n",
              "44     1547585229.079646\n",
              "45    1547585231.5442479\n",
              "46     1547585234.057522\n",
              "47    1547585239.1371682\n",
              "48    1547585244.1460178\n",
              "49    1547585249.6637168\n",
              "50    1547585250.8097346\n",
              "51    1547585256.2035398\n",
              "52    1547585258.6769912\n",
              "53     1547585263.681416\n",
              "54    1547585267.0619469\n",
              "55     1547585272.039823\n",
              "56    1547585277.0840707\n",
              "57    1547585281.4557521\n",
              "58    1547585283.7920353\n",
              "59    1547585289.7123895\n",
              "Name: 0, dtype: object"
            ]
          },
          "metadata": {},
          "execution_count": 14
        }
      ]
    }
  ]
}